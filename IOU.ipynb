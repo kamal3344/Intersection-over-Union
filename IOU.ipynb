{
 "cells": [
  {
   "cell_type": "markdown",
   "id": "4c4d9d10",
   "metadata": {},
   "source": [
    "`Finding IOU Between Predicted Box and Ground Truth Box`"
   ]
  },
  {
   "cell_type": "code",
   "execution_count": 3,
   "id": "9e431857",
   "metadata": {},
   "outputs": [
    {
     "name": "stdout",
     "output_type": "stream",
     "text": [
      "1.9182692307692308\n"
     ]
    }
   ],
   "source": [
    "# Lets Take x1,y1,x2,y2 for ground truth and predicted box:\n",
    "\n",
    "ground_truth = [2 , 3 , 15, 19]\n",
    "\n",
    "predicted = [10 , 14 , 31, 33] # Take x3,y3,x4,y4  for predicted box\n",
    "\n",
    "\n",
    "# Intersection:\n",
    "# Formula = max(x1,x3) , max(y1,y3)\n",
    "           # max(x2 , x4) , max(y2 , y4)\n",
    "    \n",
    "pt1 = max(ground_truth[0] , predicted[0])\n",
    "pt2 = max(ground_truth[1] , predicted[1])\n",
    "\n",
    "pt3 = max(ground_truth[2],predicted[2])\n",
    "pt4 = max(ground_truth[3] , predicted[3])\n",
    "\n",
    "\n",
    "intersect = (pt3 - pt1) * (pt4 - pt2)\n",
    "\n",
    "# union:\n",
    "\n",
    "\n",
    "g_width = ground_truth[2] - ground_truth[0]\n",
    "g_height = ground_truth[3] - ground_truth[1]\n",
    "\n",
    "g_area = g_width * g_height\n",
    "\n",
    "p_width = predicted[2] - predicted[0]\n",
    "p_height = predicted[3] - predicted[1]\n",
    "\n",
    "p_area = p_width * p_height\n",
    "\n",
    "union = g_area + p_area - intersect\n",
    "\n",
    "iou = intersect / union\n",
    "\n",
    "\n",
    "print(iou)"
   ]
  },
  {
   "cell_type": "code",
   "execution_count": null,
   "id": "3b0b2776",
   "metadata": {},
   "outputs": [],
   "source": []
  }
 ],
 "metadata": {
  "kernelspec": {
   "display_name": "Python 3 (ipykernel)",
   "language": "python",
   "name": "python3"
  },
  "language_info": {
   "codemirror_mode": {
    "name": "ipython",
    "version": 3
   },
   "file_extension": ".py",
   "mimetype": "text/x-python",
   "name": "python",
   "nbconvert_exporter": "python",
   "pygments_lexer": "ipython3",
   "version": "3.9.13"
  }
 },
 "nbformat": 4,
 "nbformat_minor": 5
}
